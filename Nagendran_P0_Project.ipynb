{
 "cells": [
  {
   "cell_type": "code",
   "execution_count": 1,
   "id": "70b72cec-b468-4973-b2cb-3cfee585bcf4",
   "metadata": {},
   "outputs": [],
   "source": [
    "# ***RevStore***\n",
    "\n",
    "# Data & Analytics P0 Project"
   ]
  },
  {
   "cell_type": "code",
   "execution_count": 2,
   "id": "55247ca0-84dc-4dbb-b234-1e1841373dfd",
   "metadata": {},
   "outputs": [],
   "source": [
    "# i) Extract Transform & Load(ETL) PROCESS"
   ]
  },
  {
   "cell_type": "code",
   "execution_count": 2,
   "id": "36ad6406-ae13-48f1-a573-0a78d4cd04a9",
   "metadata": {},
   "outputs": [
    {
     "name": "stdout",
     "output_type": "stream",
     "text": [
      "     customer_id     customer_name      country           city\n",
      "0           9780      Jessica Hart   Martinique  South William\n",
      "1           9169         Amy Clark   Kazakhstan     Davisville\n",
      "2           6631  Danielle Elliott      Armenia     East Danny\n",
      "3           8772     Robin Mendoza       Uganda    Johnsonbury\n",
      "4           8913    Abigail Miller      Namibia  Wrightchester\n",
      "..           ...               ...          ...            ...\n",
      "995         6357    Jessica Castro     Dominica     Deannastad\n",
      "996          244    Cheryl Ramirez       Malawi  Martinezmouth\n",
      "997         4490   Luis Strickland        Italy     Oneilltown\n",
      "998         2984    Jennifer Kelly      Bahamas    Xavierville\n",
      "999         8760    Anthony Wilson  Switzerland      Torreston\n",
      "\n",
      "[1000 rows x 4 columns]\n"
     ]
    }
   ],
   "source": [
    "# WE ARE USING PANDAS TO IMPORT THE DATASETS \n",
    "#1)\"CUSTOMERS\"\n",
    "\n",
    "import pandas as pd\n",
    "\n",
    "df = pd.read_json(\"customers.json\")\n",
    "\n",
    "print(df) "
   ]
  },
  {
   "cell_type": "code",
   "execution_count": 22,
   "id": "b535bdf9-606b-4618-985b-e3780d8d61b4",
   "metadata": {},
   "outputs": [],
   "source": [
    "#ii) EDA FOR CUSTOMERS DATASET"
   ]
  },
  {
   "cell_type": "code",
   "execution_count": 3,
   "id": "f7755704-3e56-440a-a453-4d4f9590ee05",
   "metadata": {},
   "outputs": [
    {
     "name": "stdout",
     "output_type": "stream",
     "text": [
      "<class 'pandas.core.frame.DataFrame'>\n",
      "RangeIndex: 1000 entries, 0 to 999\n",
      "Data columns (total 4 columns):\n",
      " #   Column         Non-Null Count  Dtype \n",
      "---  ------         --------------  ----- \n",
      " 0   customer_id    1000 non-null   int64 \n",
      " 1   customer_name  1000 non-null   object\n",
      " 2   country        1000 non-null   object\n",
      " 3   city           1000 non-null   object\n",
      "dtypes: int64(1), object(3)\n",
      "memory usage: 31.4+ KB\n"
     ]
    }
   ],
   "source": [
    "#2)info about customers\n",
    "\n",
    "df.info()"
   ]
  },
  {
   "cell_type": "code",
   "execution_count": 4,
   "id": "93693568-3235-4422-be5c-06a439ed95a2",
   "metadata": {},
   "outputs": [
    {
     "data": {
      "text/html": [
       "<div>\n",
       "<style scoped>\n",
       "    .dataframe tbody tr th:only-of-type {\n",
       "        vertical-align: middle;\n",
       "    }\n",
       "\n",
       "    .dataframe tbody tr th {\n",
       "        vertical-align: top;\n",
       "    }\n",
       "\n",
       "    .dataframe thead th {\n",
       "        text-align: right;\n",
       "    }\n",
       "</style>\n",
       "<table border=\"1\" class=\"dataframe\">\n",
       "  <thead>\n",
       "    <tr style=\"text-align: right;\">\n",
       "      <th></th>\n",
       "      <th>customer_id</th>\n",
       "      <th>customer_name</th>\n",
       "      <th>country</th>\n",
       "      <th>city</th>\n",
       "    </tr>\n",
       "  </thead>\n",
       "  <tbody>\n",
       "    <tr>\n",
       "      <th>0</th>\n",
       "      <td>9780</td>\n",
       "      <td>Jessica Hart</td>\n",
       "      <td>Martinique</td>\n",
       "      <td>South William</td>\n",
       "    </tr>\n",
       "    <tr>\n",
       "      <th>1</th>\n",
       "      <td>9169</td>\n",
       "      <td>Amy Clark</td>\n",
       "      <td>Kazakhstan</td>\n",
       "      <td>Davisville</td>\n",
       "    </tr>\n",
       "    <tr>\n",
       "      <th>2</th>\n",
       "      <td>6631</td>\n",
       "      <td>Danielle Elliott</td>\n",
       "      <td>Armenia</td>\n",
       "      <td>East Danny</td>\n",
       "    </tr>\n",
       "    <tr>\n",
       "      <th>3</th>\n",
       "      <td>8772</td>\n",
       "      <td>Robin Mendoza</td>\n",
       "      <td>Uganda</td>\n",
       "      <td>Johnsonbury</td>\n",
       "    </tr>\n",
       "    <tr>\n",
       "      <th>4</th>\n",
       "      <td>8913</td>\n",
       "      <td>Abigail Miller</td>\n",
       "      <td>Namibia</td>\n",
       "      <td>Wrightchester</td>\n",
       "    </tr>\n",
       "  </tbody>\n",
       "</table>\n",
       "</div>"
      ],
      "text/plain": [
       "   customer_id     customer_name     country           city\n",
       "0         9780      Jessica Hart  Martinique  South William\n",
       "1         9169         Amy Clark  Kazakhstan     Davisville\n",
       "2         6631  Danielle Elliott     Armenia     East Danny\n",
       "3         8772     Robin Mendoza      Uganda    Johnsonbury\n",
       "4         8913    Abigail Miller     Namibia  Wrightchester"
      ]
     },
     "execution_count": 4,
     "metadata": {},
     "output_type": "execute_result"
    }
   ],
   "source": [
    "df.head() #1st 5 records"
   ]
  },
  {
   "cell_type": "code",
   "execution_count": 5,
   "id": "2c43de06-1391-4a67-94b0-d93ea1c04fe6",
   "metadata": {},
   "outputs": [
    {
     "data": {
      "text/html": [
       "<div>\n",
       "<style scoped>\n",
       "    .dataframe tbody tr th:only-of-type {\n",
       "        vertical-align: middle;\n",
       "    }\n",
       "\n",
       "    .dataframe tbody tr th {\n",
       "        vertical-align: top;\n",
       "    }\n",
       "\n",
       "    .dataframe thead th {\n",
       "        text-align: right;\n",
       "    }\n",
       "</style>\n",
       "<table border=\"1\" class=\"dataframe\">\n",
       "  <thead>\n",
       "    <tr style=\"text-align: right;\">\n",
       "      <th></th>\n",
       "      <th>customer_id</th>\n",
       "      <th>customer_name</th>\n",
       "      <th>country</th>\n",
       "      <th>city</th>\n",
       "    </tr>\n",
       "  </thead>\n",
       "  <tbody>\n",
       "    <tr>\n",
       "      <th>995</th>\n",
       "      <td>6357</td>\n",
       "      <td>Jessica Castro</td>\n",
       "      <td>Dominica</td>\n",
       "      <td>Deannastad</td>\n",
       "    </tr>\n",
       "    <tr>\n",
       "      <th>996</th>\n",
       "      <td>244</td>\n",
       "      <td>Cheryl Ramirez</td>\n",
       "      <td>Malawi</td>\n",
       "      <td>Martinezmouth</td>\n",
       "    </tr>\n",
       "    <tr>\n",
       "      <th>997</th>\n",
       "      <td>4490</td>\n",
       "      <td>Luis Strickland</td>\n",
       "      <td>Italy</td>\n",
       "      <td>Oneilltown</td>\n",
       "    </tr>\n",
       "    <tr>\n",
       "      <th>998</th>\n",
       "      <td>2984</td>\n",
       "      <td>Jennifer Kelly</td>\n",
       "      <td>Bahamas</td>\n",
       "      <td>Xavierville</td>\n",
       "    </tr>\n",
       "    <tr>\n",
       "      <th>999</th>\n",
       "      <td>8760</td>\n",
       "      <td>Anthony Wilson</td>\n",
       "      <td>Switzerland</td>\n",
       "      <td>Torreston</td>\n",
       "    </tr>\n",
       "  </tbody>\n",
       "</table>\n",
       "</div>"
      ],
      "text/plain": [
       "     customer_id    customer_name      country           city\n",
       "995         6357   Jessica Castro     Dominica     Deannastad\n",
       "996          244   Cheryl Ramirez       Malawi  Martinezmouth\n",
       "997         4490  Luis Strickland        Italy     Oneilltown\n",
       "998         2984   Jennifer Kelly      Bahamas    Xavierville\n",
       "999         8760   Anthony Wilson  Switzerland      Torreston"
      ]
     },
     "execution_count": 5,
     "metadata": {},
     "output_type": "execute_result"
    }
   ],
   "source": [
    "df.tail() #last 5 records"
   ]
  },
  {
   "cell_type": "code",
   "execution_count": 6,
   "id": "3e3413d6-0ba0-4cdc-aea8-ba6a74b100df",
   "metadata": {},
   "outputs": [
    {
     "data": {
      "text/plain": [
       "(1000, 4)"
      ]
     },
     "execution_count": 6,
     "metadata": {},
     "output_type": "execute_result"
    }
   ],
   "source": [
    "df.shape   #1000 rows and 4 columns"
   ]
  },
  {
   "cell_type": "code",
   "execution_count": 7,
   "id": "d1b7877f-4a6f-415b-bacc-6679d982ffe6",
   "metadata": {},
   "outputs": [
    {
     "data": {
      "text/plain": [
       "customer_id      0\n",
       "customer_name    0\n",
       "country          0\n",
       "city             0\n",
       "dtype: int64"
      ]
     },
     "execution_count": 7,
     "metadata": {},
     "output_type": "execute_result"
    }
   ],
   "source": [
    "df.isnull().sum()  #no missing values"
   ]
  },
  {
   "cell_type": "code",
   "execution_count": 8,
   "id": "38b5406a-4819-40f1-a950-6bbe0c1da519",
   "metadata": {},
   "outputs": [],
   "source": [
    "import matplotlib.pyplot as plt  #to find outlier"
   ]
  },
  {
   "cell_type": "code",
   "execution_count": 10,
   "id": "16a9a80b-4d9d-45b4-b59c-301eb09e11d8",
   "metadata": {},
   "outputs": [
    {
     "data": {
      "image/png": "[encoded data removed]",
      "text/plain": [
       "<Figure size 640x480 with 1 Axes>"
      ]
     },
     "metadata": {},
     "output_type": "display_data"
    }
   ],
   "source": [
    "df.boxplot(column=['customer_id'])\n",
    "plt.title(\"Boxplot for Customers Data\")\n",
    "plt.show()\n"
   ]
  },
  {
   "cell_type": "code",
   "execution_count": 21,
   "id": "3b582830-b456-42e4-9275-ecd0b6e4f6a8",
   "metadata": {},
   "outputs": [
    {
     "data": {
      "text/plain": [
       "customer_id      1000\n",
       "customer_name     997\n",
       "country           238\n",
       "city              950\n",
       "dtype: int64"
      ]
     },
     "execution_count": 21,
     "metadata": {},
     "output_type": "execute_result"
    }
   ],
   "source": [
    "df.nunique()  #identifying unique values"
   ]
  },
  {
   "cell_type": "code",
   "execution_count": 52,
   "id": "50cbcd7c-1359-4ada-8ec5-e6a8ce5adfe3",
   "metadata": {},
   "outputs": [],
   "source": [
    "#================================================================================================================================================"
   ]
  },
  {
   "cell_type": "code",
   "execution_count": null,
   "id": "e39feec2-9ed6-4f45-ba92-9162fd38d9e2",
   "metadata": {},
   "outputs": [],
   "source": [
    "#i) Extract Transform & Load(ETL) PROCESS"
   ]
  },
  {
   "cell_type": "code",
   "execution_count": 11,
   "id": "40bba6b1-8002-418b-a87f-5ebfab862a3f",
   "metadata": {},
   "outputs": [
    {
     "name": "stdout",
     "output_type": "stream",
     "text": [
      "      order_id  customer_id  product_id           product_name  \\\n",
      "0            1         1731        8609  Central home & kitche   \n",
      "1            2         5539        2409             Upon sport   \n",
      "2            3         3507        1145       Across stationer   \n",
      "3            4         4826        8375    Start home & kitche   \n",
      "4            5         6538        2149             Draw beaut   \n",
      "...        ...          ...         ...                    ...   \n",
      "9995      9996         1496        9676    Range home & kitche   \n",
      "9996      9997         7288        9927               Once toy   \n",
      "9997      9998         8381        3852            Human beaut   \n",
      "9998      9999         5494        7324            Light beaut   \n",
      "9999     10000         1490        6547        Source furnitur   \n",
      "\n",
      "     product_category      payment_type  qty  price            datetime  \\\n",
      "0      Home & Kitchen            Wallet   25  64216 2021-07-26 20:16:14   \n",
      "1              Sports              Card   34  69877 2021-08-25 03:41:32   \n",
      "2          Stationery              Card   28  35491 2024-06-21 21:39:21   \n",
      "3      Home & Kitchen              Card   33  39540 2022-09-17 13:52:11   \n",
      "4              Beauty              Card   27  80635 2022-03-09 07:58:08   \n",
      "...               ...               ...  ...    ...                 ...   \n",
      "9995   Home & Kitchen            Wallet   39  61151 2024-03-17 09:06:05   \n",
      "9996             Toys  Internet Banking   44  53963 2024-06-17 08:04:22   \n",
      "9997           Beauty               UPI   48  26032 2023-02-05 04:20:30   \n",
      "9998           Beauty               UPI   17  28277 2024-02-17 03:05:57   \n",
      "9999        Furniture               UPI   34  91020 2023-01-11 03:02:53   \n",
      "\n",
      "     ecommerce_website_name payment_txn_id payment_txn_success  \\\n",
      "0           www.bestbuy.com       a395e8c7                   N   \n",
      "1          www.flipkart.com       b40791f8                   N   \n",
      "2            www.target.com       7fb6cca9                   N   \n",
      "3             www.amazon.in       cae677f3                   N   \n",
      "4              www.etsy.com       fbce1649                   N   \n",
      "...                     ...            ...                 ...   \n",
      "9995            www.ebay.in       03c982f7                   Y   \n",
      "9996          www.amazon.in       46bd0811                   N   \n",
      "9997       www.tatacliq.com       d115279c                   Y   \n",
      "9998           www.etsy.com       6d1628b3                   N   \n",
      "9999       www.flipkart.com       224381cd                   N   \n",
      "\n",
      "           failure_reason  \n",
      "0            Card Expired  \n",
      "1             Invalid CVV  \n",
      "2            Blocked Card  \n",
      "3     Transaction Timeout  \n",
      "4             Invalid CVV  \n",
      "...                   ...  \n",
      "9995                       \n",
      "9996         Blocked Card  \n",
      "9997                       \n",
      "9998         Card Expired  \n",
      "9999   Insufficient Funds  \n",
      "\n",
      "[10000 rows x 13 columns]\n"
     ]
    }
   ],
   "source": [
    "#WE ARE USING PANDAS TO IMPORT THE DATASETS \n",
    "#2)\"TRANSACTION_LOGS\"\n",
    "\n",
    "import pandas as pd\n",
    "\n",
    "tl = pd.read_json(\"transaction_logs.json\")\n",
    "\n",
    "print(tl) "
   ]
  },
  {
   "cell_type": "code",
   "execution_count": 12,
   "id": "8879648c-f64b-434b-a513-664a6db1bb30",
   "metadata": {},
   "outputs": [
    {
     "name": "stdout",
     "output_type": "stream",
     "text": [
      "<class 'pandas.core.frame.DataFrame'>\n",
      "RangeIndex: 10000 entries, 0 to 9999\n",
      "Data columns (total 13 columns):\n",
      " #   Column                  Non-Null Count  Dtype         \n",
      "---  ------                  --------------  -----         \n",
      " 0   order_id                10000 non-null  int64         \n",
      " 1   customer_id             10000 non-null  int64         \n",
      " 2   product_id              10000 non-null  int64         \n",
      " 3   product_name            10000 non-null  object        \n",
      " 4   product_category        10000 non-null  object        \n",
      " 5   payment_type            10000 non-null  object        \n",
      " 6   qty                     10000 non-null  int64         \n",
      " 7   price                   10000 non-null  int64         \n",
      " 8   datetime                10000 non-null  datetime64[ns]\n",
      " 9   ecommerce_website_name  10000 non-null  object        \n",
      " 10  payment_txn_id          10000 non-null  object        \n",
      " 11  payment_txn_success     10000 non-null  object        \n",
      " 12  failure_reason          10000 non-null  object        \n",
      "dtypes: datetime64[ns](1), int64(5), object(7)\n",
      "memory usage: 1015.8+ KB\n"
     ]
    }
   ],
   "source": [
    "tl.info() #info about transaction_logs"
   ]
  },
  {
   "cell_type": "code",
   "execution_count": 13,
   "id": "1db9f3aa-377b-48b7-ae13-21bdb704005f",
   "metadata": {},
   "outputs": [
    {
     "data": {
      "text/html": [
       "<div>\n",
       "<style scoped>\n",
       "    .dataframe tbody tr th:only-of-type {\n",
       "        vertical-align: middle;\n",
       "    }\n",
       "\n",
       "    .dataframe tbody tr th {\n",
       "        vertical-align: top;\n",
       "    }\n",
       "\n",
       "    .dataframe thead th {\n",
       "        text-align: right;\n",
       "    }\n",
       "</style>\n",
       "<table border=\"1\" class=\"dataframe\">\n",
       "  <thead>\n",
       "    <tr style=\"text-align: right;\">\n",
       "      <th></th>\n",
       "      <th>order_id</th>\n",
       "      <th>customer_id</th>\n",
       "      <th>product_id</th>\n",
       "      <th>product_name</th>\n",
       "      <th>product_category</th>\n",
       "      <th>payment_type</th>\n",
       "      <th>qty</th>\n",
       "      <th>price</th>\n",
       "      <th>datetime</th>\n",
       "      <th>ecommerce_website_name</th>\n",
       "      <th>payment_txn_id</th>\n",
       "      <th>payment_txn_success</th>\n",
       "      <th>failure_reason</th>\n",
       "    </tr>\n",
       "  </thead>\n",
       "  <tbody>\n",
       "    <tr>\n",
       "      <th>0</th>\n",
       "      <td>1</td>\n",
       "      <td>1731</td>\n",
       "      <td>8609</td>\n",
       "      <td>Central home &amp; kitche</td>\n",
       "      <td>Home &amp; Kitchen</td>\n",
       "      <td>Wallet</td>\n",
       "      <td>25</td>\n",
       "      <td>64216</td>\n",
       "      <td>2021-07-26 20:16:14</td>\n",
       "      <td>www.bestbuy.com</td>\n",
       "      <td>a395e8c7</td>\n",
       "      <td>N</td>\n",
       "      <td>Card Expired</td>\n",
       "    </tr>\n",
       "    <tr>\n",
       "      <th>1</th>\n",
       "      <td>2</td>\n",
       "      <td>5539</td>\n",
       "      <td>2409</td>\n",
       "      <td>Upon sport</td>\n",
       "      <td>Sports</td>\n",
       "      <td>Card</td>\n",
       "      <td>34</td>\n",
       "      <td>69877</td>\n",
       "      <td>2021-08-25 03:41:32</td>\n",
       "      <td>www.flipkart.com</td>\n",
       "      <td>b40791f8</td>\n",
       "      <td>N</td>\n",
       "      <td>Invalid CVV</td>\n",
       "    </tr>\n",
       "    <tr>\n",
       "      <th>2</th>\n",
       "      <td>3</td>\n",
       "      <td>3507</td>\n",
       "      <td>1145</td>\n",
       "      <td>Across stationer</td>\n",
       "      <td>Stationery</td>\n",
       "      <td>Card</td>\n",
       "      <td>28</td>\n",
       "      <td>35491</td>\n",
       "      <td>2024-06-21 21:39:21</td>\n",
       "      <td>www.target.com</td>\n",
       "      <td>7fb6cca9</td>\n",
       "      <td>N</td>\n",
       "      <td>Blocked Card</td>\n",
       "    </tr>\n",
       "    <tr>\n",
       "      <th>3</th>\n",
       "      <td>4</td>\n",
       "      <td>4826</td>\n",
       "      <td>8375</td>\n",
       "      <td>Start home &amp; kitche</td>\n",
       "      <td>Home &amp; Kitchen</td>\n",
       "      <td>Card</td>\n",
       "      <td>33</td>\n",
       "      <td>39540</td>\n",
       "      <td>2022-09-17 13:52:11</td>\n",
       "      <td>www.amazon.in</td>\n",
       "      <td>cae677f3</td>\n",
       "      <td>N</td>\n",
       "      <td>Transaction Timeout</td>\n",
       "    </tr>\n",
       "    <tr>\n",
       "      <th>4</th>\n",
       "      <td>5</td>\n",
       "      <td>6538</td>\n",
       "      <td>2149</td>\n",
       "      <td>Draw beaut</td>\n",
       "      <td>Beauty</td>\n",
       "      <td>Card</td>\n",
       "      <td>27</td>\n",
       "      <td>80635</td>\n",
       "      <td>2022-03-09 07:58:08</td>\n",
       "      <td>www.etsy.com</td>\n",
       "      <td>fbce1649</td>\n",
       "      <td>N</td>\n",
       "      <td>Invalid CVV</td>\n",
       "    </tr>\n",
       "  </tbody>\n",
       "</table>\n",
       "</div>"
      ],
      "text/plain": [
       "   order_id  customer_id  product_id           product_name product_category  \\\n",
       "0         1         1731        8609  Central home & kitche   Home & Kitchen   \n",
       "1         2         5539        2409             Upon sport           Sports   \n",
       "2         3         3507        1145       Across stationer       Stationery   \n",
       "3         4         4826        8375    Start home & kitche   Home & Kitchen   \n",
       "4         5         6538        2149             Draw beaut           Beauty   \n",
       "\n",
       "  payment_type  qty  price            datetime ecommerce_website_name  \\\n",
       "0       Wallet   25  64216 2021-07-26 20:16:14        www.bestbuy.com   \n",
       "1         Card   34  69877 2021-08-25 03:41:32       www.flipkart.com   \n",
       "2         Card   28  35491 2024-06-21 21:39:21         www.target.com   \n",
       "3         Card   33  39540 2022-09-17 13:52:11          www.amazon.in   \n",
       "4         Card   27  80635 2022-03-09 07:58:08           www.etsy.com   \n",
       "\n",
       "  payment_txn_id payment_txn_success       failure_reason  \n",
       "0       a395e8c7                   N         Card Expired  \n",
       "1       b40791f8                   N          Invalid CVV  \n",
       "2       7fb6cca9                   N         Blocked Card  \n",
       "3       cae677f3                   N  Transaction Timeout  \n",
       "4       fbce1649                   N          Invalid CVV  "
      ]
     },
     "execution_count": 13,
     "metadata": {},
     "output_type": "execute_result"
    }
   ],
   "source": [
    "tl.head() #1st 5 records"
   ]
  },
  {
   "cell_type": "code",
   "execution_count": 14,
   "id": "dfaaec24-88dc-4b00-b480-5639b250d617",
   "metadata": {},
   "outputs": [
    {
     "data": {
      "text/html": [
       "<div>\n",
       "<style scoped>\n",
       "    .dataframe tbody tr th:only-of-type {\n",
       "        vertical-align: middle;\n",
       "    }\n",
       "\n",
       "    .dataframe tbody tr th {\n",
       "        vertical-align: top;\n",
       "    }\n",
       "\n",
       "    .dataframe thead th {\n",
       "        text-align: right;\n",
       "    }\n",
       "</style>\n",
       "<table border=\"1\" class=\"dataframe\">\n",
       "  <thead>\n",
       "    <tr style=\"text-align: right;\">\n",
       "      <th></th>\n",
       "      <th>order_id</th>\n",
       "      <th>customer_id</th>\n",
       "      <th>product_id</th>\n",
       "      <th>product_name</th>\n",
       "      <th>product_category</th>\n",
       "      <th>payment_type</th>\n",
       "      <th>qty</th>\n",
       "      <th>price</th>\n",
       "      <th>datetime</th>\n",
       "      <th>ecommerce_website_name</th>\n",
       "      <th>payment_txn_id</th>\n",
       "      <th>payment_txn_success</th>\n",
       "      <th>failure_reason</th>\n",
       "    </tr>\n",
       "  </thead>\n",
       "  <tbody>\n",
       "    <tr>\n",
       "      <th>9995</th>\n",
       "      <td>9996</td>\n",
       "      <td>1496</td>\n",
       "      <td>9676</td>\n",
       "      <td>Range home &amp; kitche</td>\n",
       "      <td>Home &amp; Kitchen</td>\n",
       "      <td>Wallet</td>\n",
       "      <td>39</td>\n",
       "      <td>61151</td>\n",
       "      <td>2024-03-17 09:06:05</td>\n",
       "      <td>www.ebay.in</td>\n",
       "      <td>03c982f7</td>\n",
       "      <td>Y</td>\n",
       "      <td></td>\n",
       "    </tr>\n",
       "    <tr>\n",
       "      <th>9996</th>\n",
       "      <td>9997</td>\n",
       "      <td>7288</td>\n",
       "      <td>9927</td>\n",
       "      <td>Once toy</td>\n",
       "      <td>Toys</td>\n",
       "      <td>Internet Banking</td>\n",
       "      <td>44</td>\n",
       "      <td>53963</td>\n",
       "      <td>2024-06-17 08:04:22</td>\n",
       "      <td>www.amazon.in</td>\n",
       "      <td>46bd0811</td>\n",
       "      <td>N</td>\n",
       "      <td>Blocked Card</td>\n",
       "    </tr>\n",
       "    <tr>\n",
       "      <th>9997</th>\n",
       "      <td>9998</td>\n",
       "      <td>8381</td>\n",
       "      <td>3852</td>\n",
       "      <td>Human beaut</td>\n",
       "      <td>Beauty</td>\n",
       "      <td>UPI</td>\n",
       "      <td>48</td>\n",
       "      <td>26032</td>\n",
       "      <td>2023-02-05 04:20:30</td>\n",
       "      <td>www.tatacliq.com</td>\n",
       "      <td>d115279c</td>\n",
       "      <td>Y</td>\n",
       "      <td></td>\n",
       "    </tr>\n",
       "    <tr>\n",
       "      <th>9998</th>\n",
       "      <td>9999</td>\n",
       "      <td>5494</td>\n",
       "      <td>7324</td>\n",
       "      <td>Light beaut</td>\n",
       "      <td>Beauty</td>\n",
       "      <td>UPI</td>\n",
       "      <td>17</td>\n",
       "      <td>28277</td>\n",
       "      <td>2024-02-17 03:05:57</td>\n",
       "      <td>www.etsy.com</td>\n",
       "      <td>6d1628b3</td>\n",
       "      <td>N</td>\n",
       "      <td>Card Expired</td>\n",
       "    </tr>\n",
       "    <tr>\n",
       "      <th>9999</th>\n",
       "      <td>10000</td>\n",
       "      <td>1490</td>\n",
       "      <td>6547</td>\n",
       "      <td>Source furnitur</td>\n",
       "      <td>Furniture</td>\n",
       "      <td>UPI</td>\n",
       "      <td>34</td>\n",
       "      <td>91020</td>\n",
       "      <td>2023-01-11 03:02:53</td>\n",
       "      <td>www.flipkart.com</td>\n",
       "      <td>224381cd</td>\n",
       "      <td>N</td>\n",
       "      <td>Insufficient Funds</td>\n",
       "    </tr>\n",
       "  </tbody>\n",
       "</table>\n",
       "</div>"
      ],
      "text/plain": [
       "      order_id  customer_id  product_id         product_name product_category  \\\n",
       "9995      9996         1496        9676  Range home & kitche   Home & Kitchen   \n",
       "9996      9997         7288        9927             Once toy             Toys   \n",
       "9997      9998         8381        3852          Human beaut           Beauty   \n",
       "9998      9999         5494        7324          Light beaut           Beauty   \n",
       "9999     10000         1490        6547      Source furnitur        Furniture   \n",
       "\n",
       "          payment_type  qty  price            datetime ecommerce_website_name  \\\n",
       "9995            Wallet   39  61151 2024-03-17 09:06:05            www.ebay.in   \n",
       "9996  Internet Banking   44  53963 2024-06-17 08:04:22          www.amazon.in   \n",
       "9997               UPI   48  26032 2023-02-05 04:20:30       www.tatacliq.com   \n",
       "9998               UPI   17  28277 2024-02-17 03:05:57           www.etsy.com   \n",
       "9999               UPI   34  91020 2023-01-11 03:02:53       www.flipkart.com   \n",
       "\n",
       "     payment_txn_id payment_txn_success      failure_reason  \n",
       "9995       03c982f7                   Y                      \n",
       "9996       46bd0811                   N        Blocked Card  \n",
       "9997       d115279c                   Y                      \n",
       "9998       6d1628b3                   N        Card Expired  \n",
       "9999       224381cd                   N  Insufficient Funds  "
      ]
     },
     "execution_count": 14,
     "metadata": {},
     "output_type": "execute_result"
    }
   ],
   "source": [
    "tl.tail() #last 5 records"
   ]
  },
  {
   "cell_type": "code",
   "execution_count": 15,
   "id": "07eeccdc-f025-4841-a34d-cb273c7a3251",
   "metadata": {},
   "outputs": [
    {
     "data": {
      "text/plain": [
       "(10000, 13)"
      ]
     },
     "execution_count": 15,
     "metadata": {},
     "output_type": "execute_result"
    }
   ],
   "source": [
    "tl.shape   #10000 rows and 13 columns"
   ]
  },
  {
   "cell_type": "code",
   "execution_count": 16,
   "id": "acb9b3b2-b22a-4907-8093-8bc9db364d3c",
   "metadata": {},
   "outputs": [
    {
     "data": {
      "text/plain": [
       "order_id                  0\n",
       "customer_id               0\n",
       "product_id                0\n",
       "product_name              0\n",
       "product_category          0\n",
       "payment_type              0\n",
       "qty                       0\n",
       "price                     0\n",
       "datetime                  0\n",
       "ecommerce_website_name    0\n",
       "payment_txn_id            0\n",
       "payment_txn_success       0\n",
       "failure_reason            0\n",
       "dtype: int64"
      ]
     },
     "execution_count": 16,
     "metadata": {},
     "output_type": "execute_result"
    }
   ],
   "source": [
    "tl.isnull().sum()  #no missing values"
   ]
  },
  {
   "cell_type": "code",
   "execution_count": 17,
   "id": "25d66f79-31ae-4cbd-9a7e-35814134962b",
   "metadata": {},
   "outputs": [],
   "source": [
    "import matplotlib.pyplot as plt  #to find outlier\n"
   ]
  },
  {
   "cell_type": "code",
   "execution_count": 18,
   "id": "e4598f35-b508-4821-ad10-8cd460358093",
   "metadata": {},
   "outputs": [
    {
     "data": {
      "image/png": "[encoded data removed]",
      "text/plain": [
       "<Figure size 640x480 with 1 Axes>"
      ]
     },
     "metadata": {},
     "output_type": "display_data"
    }
   ],
   "source": [
    "tl.boxplot(column=['qty', 'price'])\n",
    "plt.title(\"Boxplot for Transaction Logs Data\")\n",
    "plt.show()"
   ]
  },
  {
   "cell_type": "code",
   "execution_count": 24,
   "id": "6e8b9f24-5f87-4f6d-9321-866d6038711d",
   "metadata": {},
   "outputs": [
    {
     "data": {
      "text/plain": [
       "order_id                  10000\n",
       "customer_id                 671\n",
       "product_id                 6281\n",
       "product_name               6246\n",
       "product_category             10\n",
       "payment_type                  4\n",
       "qty                          50\n",
       "price                      9542\n",
       "datetime                   9996\n",
       "ecommerce_website_name       10\n",
       "payment_txn_id            10000\n",
       "payment_txn_success           2\n",
       "failure_reason                6\n",
       "dtype: int64"
      ]
     },
     "execution_count": 24,
     "metadata": {},
     "output_type": "execute_result"
    }
   ],
   "source": [
    "tl.nunique()   #identifying unique values"
   ]
  },
  {
   "cell_type": "code",
   "execution_count": null,
   "id": "3ab23ac4-7b2b-4b2e-840a-3c0adf9b0242",
   "metadata": {},
   "outputs": [],
   "source": []
  },
  {
   "cell_type": "code",
   "execution_count": 23,
   "id": "c884136e-2850-4f8c-9330-6f0e779fd2ea",
   "metadata": {},
   "outputs": [],
   "source": [
    "# CONNECTING TWO DATASETS"
   ]
  },
  {
   "cell_type": "code",
   "execution_count": 33,
   "id": "08aff414-2863-477f-8673-c9ba8d8a95e6",
   "metadata": {},
   "outputs": [
    {
     "name": "stdout",
     "output_type": "stream",
     "text": [
      "      customer_id   customer_name      country         city  order_id  \\\n",
      "0            9512  Micheal Krause      Moldova  North David      1557   \n",
      "1            9512  Micheal Krause      Moldova  North David      2090   \n",
      "2            9512  Micheal Krause      Moldova  North David      2343   \n",
      "3            9512  Micheal Krause      Moldova  North David      3086   \n",
      "4            9512  Micheal Krause      Moldova  North David      6240   \n",
      "...           ...             ...          ...          ...       ...   \n",
      "9995         2984  Jennifer Kelly      Bahamas  Xavierville      5882   \n",
      "9996         2984  Jennifer Kelly      Bahamas  Xavierville      5988   \n",
      "9997         2984  Jennifer Kelly      Bahamas  Xavierville      6772   \n",
      "9998         2984  Jennifer Kelly      Bahamas  Xavierville      9879   \n",
      "9999         8760  Anthony Wilson  Switzerland    Torreston      6652   \n",
      "\n",
      "      product_id          product_name product_category payment_type  qty  \\\n",
      "0           2081        Hospital beaut           Beauty          UPI   49   \n",
      "1           8308             Rule book            Books         Card   39   \n",
      "2           8821   Possible electronic      Electronics       Wallet   41   \n",
      "3           5190            Speak book            Books       Wallet    2   \n",
      "4           7739            Seem beaut           Beauty       Wallet    3   \n",
      "...          ...                   ...              ...          ...  ...   \n",
      "9995        7080           Artist book            Books         Card   48   \n",
      "9996        2629  Strong home & kitche   Home & Kitchen          UPI   10   \n",
      "9997        3411          Lead clothin         Clothing       Wallet   46   \n",
      "9998        1926         Room furnitur        Furniture          UPI   12   \n",
      "9999         203         Represent toy             Toys       Wallet   40   \n",
      "\n",
      "      price            datetime ecommerce_website_name payment_txn_id  \\\n",
      "0     45603 2023-01-23 20:56:16       www.tatacliq.com       bcab8920   \n",
      "1     90930 2023-06-18 20:00:53        www.walmart.com       4d05eeca   \n",
      "2     48597 2024-01-25 15:00:08         www.amazon.com       72b16917   \n",
      "3     74773 2022-02-26 12:11:25            www.ebay.in       2de638fa   \n",
      "4     68050 2024-04-01 16:32:39            www.ebay.in       0bd7f95e   \n",
      "...     ...                 ...                    ...            ...   \n",
      "9995  34195 2023-12-27 16:50:05       www.flipkart.com       ed7b60af   \n",
      "9996  22417 2022-09-29 07:50:21        www.bestbuy.com       3d1222f3   \n",
      "9997   3461 2023-04-11 20:04:22         www.target.com       14880dd9   \n",
      "9998  49912 2022-08-29 01:54:42           www.etsy.com       f87b9461   \n",
      "9999  47723 2022-03-19 10:51:20        www.bestbuy.com       7ce060cc   \n",
      "\n",
      "     payment_txn_success       failure_reason  \n",
      "0                      Y                       \n",
      "1                      Y                       \n",
      "2                      Y                       \n",
      "3                      N         Blocked Card  \n",
      "4                      Y                       \n",
      "...                  ...                  ...  \n",
      "9995                   N         Blocked Card  \n",
      "9996                   Y                       \n",
      "9997                   Y                       \n",
      "9998                   N         Blocked Card  \n",
      "9999                   N  Transaction Timeout  \n",
      "\n",
      "[10000 rows x 16 columns]\n"
     ]
    }
   ],
   "source": [
    "import pandas as pd\n",
    "\n",
    "df_customers = pd.read_json(\"customers.json\")\n",
    "df_transaction_logs = pd.read_json(\"transaction_logs.json\")\n",
    "\n",
    "merged_df = pd.merge(df_customers, df_transaction_logs, on='customer_id', how='inner')\n",
    "\n",
    "print(merged_df)"
   ]
  },
  {
   "cell_type": "code",
   "execution_count": 35,
   "id": "5bd13488-f755-42a2-a8c6-772fb8e5abe8",
   "metadata": {},
   "outputs": [
    {
     "name": "stdout",
     "output_type": "stream",
     "text": [
      "<class 'pandas.core.frame.DataFrame'>\n",
      "RangeIndex: 10000 entries, 0 to 9999\n",
      "Data columns (total 16 columns):\n",
      " #   Column                  Non-Null Count  Dtype         \n",
      "---  ------                  --------------  -----         \n",
      " 0   customer_id             10000 non-null  int64         \n",
      " 1   customer_name           10000 non-null  object        \n",
      " 2   country                 10000 non-null  object        \n",
      " 3   city                    10000 non-null  object        \n",
      " 4   order_id                10000 non-null  int64         \n",
      " 5   product_id              10000 non-null  int64         \n",
      " 6   product_name            10000 non-null  object        \n",
      " 7   product_category        10000 non-null  object        \n",
      " 8   payment_type            10000 non-null  object        \n",
      " 9   qty                     10000 non-null  int64         \n",
      " 10  price                   10000 non-null  int64         \n",
      " 11  datetime                10000 non-null  datetime64[ns]\n",
      " 12  ecommerce_website_name  10000 non-null  object        \n",
      " 13  payment_txn_id          10000 non-null  object        \n",
      " 14  payment_txn_success     10000 non-null  object        \n",
      " 15  failure_reason          10000 non-null  object        \n",
      "dtypes: datetime64[ns](1), int64(5), object(10)\n",
      "memory usage: 1.2+ MB\n"
     ]
    }
   ],
   "source": [
    "merged_df.info()"
   ]
  },
  {
   "cell_type": "code",
   "execution_count": 7,
   "id": "a4ee7927-f70d-4ce3-a60a-6ccaedee9bf0",
   "metadata": {},
   "outputs": [],
   "source": [
    "#CONNECTING MYSQL WITH PYTHON\n",
    "\n",
    "import mysql.connector"
   ]
  },
  {
   "cell_type": "code",
   "execution_count": 8,
   "id": "e1809200-c7a2-42ad-9c25-d89d0608511f",
   "metadata": {},
   "outputs": [],
   "source": [
    "db = mysql.connector.connect(\n",
    " host = \"localhost\",\n",
    " user=\"root\",\n",
    " password = \"Nags@2733\",\n",
    " database = \"sqlcode\"\n",
    ") "
   ]
  },
  {
   "cell_type": "code",
   "execution_count": 9,
   "id": "5e6d42d4-d3dc-49ee-bfa3-3871f7cddb0d",
   "metadata": {},
   "outputs": [],
   "source": [
    "cursor = db.cursor()"
   ]
  },
  {
   "cell_type": "code",
   "execution_count": 10,
   "id": "4bbea020-3c84-4c7b-8d3a-9de31b0015b7",
   "metadata": {},
   "outputs": [],
   "source": [
    "cursor.execute(\"show databases\")"
   ]
  },
  {
   "cell_type": "code",
   "execution_count": 11,
   "id": "dd58b740-41df-42bc-8031-21d9e66bbbfc",
   "metadata": {},
   "outputs": [],
   "source": [
    "result=cursor.fetchall()"
   ]
  },
  {
   "cell_type": "code",
   "execution_count": 12,
   "id": "d7966951-30b7-4a84-972e-94f1f04e4e1c",
   "metadata": {},
   "outputs": [
    {
     "name": "stdout",
     "output_type": "stream",
     "text": [
      "('information_schema',)\n",
      "('learning',)\n",
      "('mysql',)\n",
      "('performance_schema',)\n",
      "('revstore',)\n",
      "('revstorep0',)\n",
      "('sakila',)\n",
      "('sqlcode',)\n",
      "('sys',)\n",
      "('world',)\n"
     ]
    }
   ],
   "source": [
    "for line in result:  #using for to print the databases line by line\n",
    "    print(line)"
   ]
  },
  {
   "cell_type": "code",
   "execution_count": 13,
   "id": "443faeb1-17e5-4c5f-8cb1-764ed5fed0fa",
   "metadata": {},
   "outputs": [],
   "source": [
    "# NOW WE ARE GOING TO CREATE NEW DATABASE FOR THE PROJECT"
   ]
  },
  {
   "cell_type": "code",
   "execution_count": 16,
   "id": "931dbcef-81ec-47e2-a33a-e5c0ddc627cb",
   "metadata": {},
   "outputs": [],
   "source": [
    "cursor.execute(\"create database RevStoreP0_Final\")  #creating database\n",
    "result=cursor.fetchall()\n",
    "for row in result:\n",
    " print(row)"
   ]
  },
  {
   "cell_type": "code",
   "execution_count": 17,
   "id": "e3e12b5c-a6f0-4d88-9061-d535fe35717f",
   "metadata": {},
   "outputs": [
    {
     "name": "stdout",
     "output_type": "stream",
     "text": [
      "('information_schema',)\n",
      "('learning',)\n",
      "('mysql',)\n",
      "('performance_schema',)\n",
      "('revstore',)\n",
      "('revstorep0',)\n",
      "('revstorep0_final',)\n",
      "('sakila',)\n",
      "('sqlcode',)\n",
      "('sys',)\n",
      "('world',)\n"
     ]
    }
   ],
   "source": [
    "cursor.execute(\"show databases\")  #showing all databases\n",
    "result=cursor.fetchall()\n",
    "for row in result:\n",
    " print(row)"
   ]
  },
  {
   "cell_type": "code",
   "execution_count": 18,
   "id": "cfca96db-2305-4142-842e-a4cd438ab5cf",
   "metadata": {},
   "outputs": [],
   "source": [
    "cursor.execute(\"use revstorep0_final\")  #using the new database(revstorep0)"
   ]
  },
  {
   "cell_type": "code",
   "execution_count": 12,
   "id": "3bb18883-b4d0-4db7-b1ef-ee4e82988e70",
   "metadata": {},
   "outputs": [],
   "source": [
    "# CREATING A TABLE\n",
    "\n",
    "#1)CUSTOMERS TABLE"
   ]
  },
  {
   "cell_type": "code",
   "execution_count": 2,
   "id": "220cd5fd-3352-4a3d-9334-5f83225aa752",
   "metadata": {},
   "outputs": [],
   "source": [
    "import mysql.connector"
   ]
  },
  {
   "cell_type": "code",
   "execution_count": 3,
   "id": "89c045dc-aabe-46be-a6c1-c54addc0b0f2",
   "metadata": {},
   "outputs": [],
   "source": [
    "db = mysql.connector.connect(\n",
    " host = \"localhost\",\n",
    " user=\"root\",\n",
    " password = \"Nags@2733\",\n",
    " database = \"revstorep0_final\"\n",
    ") "
   ]
  },
  {
   "cell_type": "code",
   "execution_count": 4,
   "id": "0b9bb904-e812-4f85-a2e3-6ed375339d37",
   "metadata": {},
   "outputs": [],
   "source": [
    "cursor = db.cursor()"
   ]
  },
  {
   "cell_type": "code",
   "execution_count": 8,
   "id": "aa606299-ccc4-4164-8a98-f0bb0a92766c",
   "metadata": {},
   "outputs": [],
   "source": [
    "customers_table = \"\"\"CREATE TABLE CUSTOMERS\n",
    "(customer_id INT PRIMARY KEY,\n",
    "customer_name VARCHAR(200) NOT NULL,\n",
    "country VARCHAR(100), \n",
    "city VARCHAR(100))\"\"\""
   ]
  },
  {
   "cell_type": "code",
   "execution_count": 9,
   "id": "ca2371c4-c779-49b5-a949-24bce3b1d8c3",
   "metadata": {},
   "outputs": [],
   "source": [
    "cursor.execute(customers_table)"
   ]
  },
  {
   "cell_type": "code",
   "execution_count": 10,
   "id": "df97f430-1641-4b4a-81d6-559a88c543bf",
   "metadata": {},
   "outputs": [
    {
     "name": "stdout",
     "output_type": "stream",
     "text": [
      "('customers',)\n"
     ]
    }
   ],
   "source": [
    "cursor.execute(\"show tables\")\n",
    "result=cursor.fetchall()\n",
    "for row in result:\n",
    "    print(row)"
   ]
  },
  {
   "cell_type": "code",
   "execution_count": 11,
   "id": "483cf27c-3a91-45ba-b08d-18353b8aa258",
   "metadata": {},
   "outputs": [
    {
     "name": "stdout",
     "output_type": "stream",
     "text": [
      "('customer_id', 'int', 'NO', 'PRI', None, '')\n",
      "('customer_name', 'varchar(200)', 'NO', '', None, '')\n",
      "('country', 'varchar(100)', 'YES', '', None, '')\n",
      "('city', 'varchar(100)', 'YES', '', None, '')\n"
     ]
    }
   ],
   "source": [
    "cursor.execute(\"desc customers\")\n",
    "result=cursor.fetchall()\n",
    "for row in result:\n",
    " print(row)"
   ]
  },
  {
   "cell_type": "code",
   "execution_count": 49,
   "id": "b2a5886b-6d8e-4f1f-92ee-80cf0f259f0d",
   "metadata": {},
   "outputs": [],
   "source": []
  },
  {
   "cell_type": "code",
   "execution_count": 13,
   "id": "e35384f6-e220-49da-a791-51743decdfbb",
   "metadata": {},
   "outputs": [],
   "source": [
    "#2) PRODUCTS TABLE"
   ]
  },
  {
   "cell_type": "code",
   "execution_count": 16,
   "id": "64a4752f-279b-416a-b080-5cc15a1cb19f",
   "metadata": {},
   "outputs": [],
   "source": [
    "products_table = \"\"\"CREATE TABLE Products \n",
    "(product_id INT PRIMARY KEY,\n",
    " product_name VARCHAR(200) NOT NULL,\n",
    " product_category VARCHAR(100))\"\"\""
   ]
  },
  {
   "cell_type": "code",
   "execution_count": 17,
   "id": "a03c5ff7-b951-4389-8465-27c1a7c553db",
   "metadata": {},
   "outputs": [],
   "source": [
    "cursor.execute(products_table)"
   ]
  },
  {
   "cell_type": "code",
   "execution_count": 18,
   "id": "251976d8-ae55-4e84-84b7-dd305d523b2b",
   "metadata": {},
   "outputs": [
    {
     "name": "stdout",
     "output_type": "stream",
     "text": [
      "('customers',)\n",
      "('products',)\n"
     ]
    }
   ],
   "source": [
    "cursor.execute(\"show tables\")\n",
    "result=cursor.fetchall()\n",
    "for row in result:\n",
    "    print(row)"
   ]
  },
  {
   "cell_type": "code",
   "execution_count": 20,
   "id": "6093c263-5c3e-42f9-96f0-c6b7d7144100",
   "metadata": {},
   "outputs": [
    {
     "name": "stdout",
     "output_type": "stream",
     "text": [
      "('product_id', 'int', 'NO', 'PRI', None, '')\n",
      "('product_name', 'varchar(200)', 'NO', '', None, '')\n",
      "('product_category', 'varchar(100)', 'YES', '', None, '')\n"
     ]
    }
   ],
   "source": [
    "cursor.execute(\"desc products\")\n",
    "result=cursor.fetchall()\n",
    "for row in result:\n",
    " print(row)"
   ]
  },
  {
   "cell_type": "code",
   "execution_count": null,
   "id": "cb253961-f8f3-44ff-9889-0d803fd65955",
   "metadata": {},
   "outputs": [],
   "source": []
  },
  {
   "cell_type": "code",
   "execution_count": 21,
   "id": "87a12304-8990-4376-b0cd-8850f96a7ab1",
   "metadata": {},
   "outputs": [],
   "source": [
    "# 3) ORDERS TABLE"
   ]
  },
  {
   "cell_type": "code",
   "execution_count": 25,
   "id": "af56a7b9-f6ee-469a-8b12-752f2c359a0c",
   "metadata": {},
   "outputs": [],
   "source": [
    "orders_table = \"\"\"CREATE TABLE Orders (\n",
    " order_id INT PRIMARY KEY,\n",
    " customer_id INT,\n",
    " product_id INT,\n",
    " qty INT NOT NULL,\n",
    " price DECIMAL(10, 2) NOT NULL,\n",
    " datetime DATETIME NOT NULL,\n",
    " ecommerce_website_name VARCHAR(255),\n",
    " FOREIGN KEY (customer_id) REFERENCES Customers(customer_id),\n",
    " FOREIGN KEY (product_id) REFERENCES Products(product_id))\"\"\""
   ]
  },
  {
   "cell_type": "code",
   "execution_count": 27,
   "id": "505628da-9b2a-4680-9bc5-ebb0d6616a8d",
   "metadata": {},
   "outputs": [],
   "source": [
    "cursor.execute(orders_table)"
   ]
  },
  {
   "cell_type": "code",
   "execution_count": 28,
   "id": "9a86fa29-38e5-411f-9ac4-62e34c0cce50",
   "metadata": {},
   "outputs": [
    {
     "name": "stdout",
     "output_type": "stream",
     "text": [
      "('customers',)\n",
      "('orders',)\n",
      "('products',)\n"
     ]
    }
   ],
   "source": [
    "cursor.execute(\"show tables\")\n",
    "result=cursor.fetchall()\n",
    "for row in result:\n",
    "    print(row)"
   ]
  },
  {
   "cell_type": "code",
   "execution_count": 29,
   "id": "c7fa624a-10f1-4fea-ab14-236489ba2585",
   "metadata": {},
   "outputs": [
    {
     "name": "stdout",
     "output_type": "stream",
     "text": [
      "('order_id', 'int', 'NO', 'PRI', None, '')\n",
      "('customer_id', 'int', 'YES', 'MUL', None, '')\n",
      "('product_id', 'int', 'YES', 'MUL', None, '')\n",
      "('qty', 'int', 'NO', '', None, '')\n",
      "('price', 'decimal(10,2)', 'NO', '', None, '')\n",
      "('datetime', 'datetime', 'NO', '', None, '')\n",
      "('ecommerce_website_name', 'varchar(255)', 'YES', '', None, '')\n"
     ]
    }
   ],
   "source": [
    "cursor.execute(\"desc orders\")\n",
    "result=cursor.fetchall()\n",
    "for row in result:\n",
    " print(row)"
   ]
  },
  {
   "cell_type": "code",
   "execution_count": null,
   "id": "8ad0d463-e828-4bb5-a9e1-27f69501e15a",
   "metadata": {},
   "outputs": [],
   "source": []
  },
  {
   "cell_type": "code",
   "execution_count": 30,
   "id": "62a29e4b-b3a7-4f1d-9623-c28c86acc09f",
   "metadata": {},
   "outputs": [],
   "source": [
    "#4) PAYMENTS TABLE "
   ]
  },
  {
   "cell_type": "code",
   "execution_count": 31,
   "id": "51ea11e5-cc14-4aee-90a8-e4d96cbc6ede",
   "metadata": {},
   "outputs": [],
   "source": [
    "payments_table =\"\"\"CREATE TABLE Payments (\n",
    " payment_id INT PRIMARY KEY AUTO_INCREMENT,\n",
    " order_id INT,\n",
    " payment_type VARCHAR(50),\n",
    " payment_txn_id VARCHAR(100),\n",
    " payment_txn_success BOOLEAN,\n",
    " failure_reason TEXT,\n",
    " FOREIGN KEY (order_id) REFERENCES Orders(order_id))\"\"\""
   ]
  },
  {
   "cell_type": "code",
   "execution_count": 32,
   "id": "0dbaa132-d3b1-4c05-8dd0-527c3a158c21",
   "metadata": {},
   "outputs": [],
   "source": [
    "cursor.execute(payments_table)"
   ]
  },
  {
   "cell_type": "code",
   "execution_count": 33,
   "id": "266acf45-f2ce-4dae-9146-c8a91c050f59",
   "metadata": {},
   "outputs": [
    {
     "name": "stdout",
     "output_type": "stream",
     "text": [
      "('customers',)\n",
      "('orders',)\n",
      "('payments',)\n",
      "('products',)\n"
     ]
    }
   ],
   "source": [
    "cursor.execute(\"show tables\")\n",
    "result=cursor.fetchall()\n",
    "for row in result:\n",
    "    print(row)"
   ]
  },
  {
   "cell_type": "code",
   "execution_count": 35,
   "id": "41d455c4-d655-4bc4-8aa1-65b9fe2f69e1",
   "metadata": {},
   "outputs": [
    {
     "name": "stdout",
     "output_type": "stream",
     "text": [
      "('payment_id', 'int', 'NO', 'PRI', None, 'auto_increment')\n",
      "('order_id', 'int', 'YES', 'MUL', None, '')\n",
      "('payment_type', 'varchar(50)', 'YES', '', None, '')\n",
      "('payment_txn_id', 'varchar(100)', 'YES', '', None, '')\n",
      "('payment_txn_success', 'tinyint(1)', 'YES', '', None, '')\n",
      "('failure_reason', 'text', 'YES', '', None, '')\n"
     ]
    }
   ],
   "source": [
    "cursor.execute(\"desc payments\")\n",
    "result=cursor.fetchall()\n",
    "for row in result:\n",
    " print(row)"
   ]
  },
  {
   "cell_type": "code",
   "execution_count": null,
   "id": "8d8e6ba6-3e45-48d0-864e-842f036c3711",
   "metadata": {},
   "outputs": [],
   "source": [
    "# FOUR TABLES CREATED WITH NORMALIZATION"
   ]
  },
  {
   "cell_type": "code",
   "execution_count": 19,
   "id": "c2074e53-26bd-42f7-8185-7044436cbc3a",
   "metadata": {},
   "outputs": [],
   "source": [
    "#==============================================================================================="
   ]
  },
  {
   "cell_type": "code",
   "execution_count": 36,
   "id": "9a3a96da-8fde-4c04-9326-1e84e7aad14c",
   "metadata": {},
   "outputs": [],
   "source": [
    "# NOW WE NEED TO INSERT THE RECORDS INTO THE TABLE "
   ]
  },
  {
   "cell_type": "code",
   "execution_count": 7,
   "id": "7eadc879-a3c9-41ce-a21b-6815eb9f921a",
   "metadata": {},
   "outputs": [],
   "source": [
    "customer_df = pd.read_json('customers.json')\n",
    "transaction_logs_df = pd.read_json('transaction_logs.json')"
   ]
  },
  {
   "cell_type": "code",
   "execution_count": 8,
   "id": "1011e73d-24e5-44d2-b830-be33896fcf3d",
   "metadata": {},
   "outputs": [],
   "source": [
    "transaction_logs_df['datetime'] = pd.to_datetime(transaction_logs_df['datetime'])"
   ]
  },
  {
   "cell_type": "code",
   "execution_count": 9,
   "id": "bafb3483-4d66-4fe2-873f-b53f3bd95222",
   "metadata": {},
   "outputs": [],
   "source": [
    "transaction_logs_df['payment_txn_success'] = transaction_logs_df['payment_txn_success'].astype(bool)"
   ]
  },
  {
   "cell_type": "code",
   "execution_count": 10,
   "id": "22daae82-badd-442e-bd3a-689ec75dbd37",
   "metadata": {},
   "outputs": [],
   "source": [
    "#INSERTING THE DATA INTO TABLES FROM GIVEN DATSETS"
   ]
  },
  {
   "cell_type": "code",
   "execution_count": 11,
   "id": "12608cc4-9991-4c67-a02d-4ff5b12ab7bd",
   "metadata": {},
   "outputs": [
    {
     "name": "stdout",
     "output_type": "stream",
     "text": [
      "Data inserted successfully.\n"
     ]
    }
   ],
   "source": [
    "import pandas as pd\n",
    "import mysql.connector\n",
    "import time\n",
    "\n",
    "MAX_RETRIES = 5\n",
    "RETRY_DELAY = 2 \n",
    "\n",
    "for attempt in range(MAX_RETRIES):\n",
    "    try:\n",
    "        # Connect to MySQL\n",
    "        conn = mysql.connector.connect(\n",
    "            host='localhost',\n",
    "            user='root',  \n",
    "            password='Nags@2733',  \n",
    "            database='revstorep0_final'\n",
    "        )\n",
    "        cursor = conn.cursor()\n",
    "\n",
    "        # Insert data into Customers table\n",
    "        for index, row in customer_df.iterrows():\n",
    "            cursor.execute(\"\"\"\n",
    "                INSERT INTO Customers (customer_id, customer_name, country, city)\n",
    "                VALUES (%s, %s, %s, %s)\n",
    "                ON DUPLICATE KEY UPDATE\n",
    "                customer_name = VALUES(customer_name),\n",
    "                country = VALUES(country),\n",
    "                city = VALUES(city)\n",
    "            \"\"\", (row['customer_id'], row['customer_name'], row['country'], row['city']))\n",
    "\n",
    "        # Insert data into Products table\n",
    "        products_df = transaction_logs_df[['product_id', 'product_name', 'product_category']].drop_duplicates()\n",
    "\n",
    "        for index, row in products_df.iterrows():\n",
    "            cursor.execute(\"\"\"\n",
    "                INSERT INTO Products (product_id, product_name, product_category)\n",
    "                VALUES (%s, %s, %s)\n",
    "                ON DUPLICATE KEY UPDATE\n",
    "                product_name = VALUES(product_name),\n",
    "                product_category = VALUES(product_category)\n",
    "            \"\"\", (row['product_id'], row['product_name'], row['product_category']))\n",
    "\n",
    "        # Insert data into Orders table\n",
    "        for index, row in transaction_logs_df.iterrows():\n",
    "            cursor.execute(\"\"\"\n",
    "                INSERT INTO Orders (order_id, customer_id, product_id, qty, price, datetime, ecommerce_website_name)\n",
    "                VALUES (%s, %s, %s, %s, %s, %s, %s)\n",
    "            \"\"\", (row['order_id'], row['customer_id'], row['product_id'], row['qty'], row['price'], row['datetime'], row['ecommerce_website_name']))\n",
    "\n",
    "        # Insert data into Payments table\n",
    "        for index, row in transaction_logs_df.iterrows():\n",
    "            cursor.execute(\"\"\"\n",
    "                INSERT INTO Payments (order_id, payment_type, payment_txn_id, payment_txn_success, failure_reason)\n",
    "                VALUES (%s, %s, %s, %s, %s)\n",
    "            \"\"\", (row['order_id'], row['payment_type'], row['payment_txn_id'], row['payment_txn_success'], row['failure_reason']))\n",
    "\n",
    "        # Commit the transaction\n",
    "        conn.commit()\n",
    "        print(\"Data inserted successfully.\")\n",
    "        break  # Exit loop if successful\n",
    "\n",
    "    except mysql.connector.Error as err:\n",
    "        print(f\"Error: {err}\")\n",
    "        if err.errno == 1045:  # Access denied\n",
    "            print(\"Access denied for user. Please check credentials.\")\n",
    "            break  # Stop retrying\n",
    "        elif err.errno == 1205:  # Lock wait timeout\n",
    "            print(f\"Lock wait timeout exceeded. Retrying ({attempt + 1}/{MAX_RETRIES})...\")\n",
    "        elif err.errno == 2006:  # MySQL server has gone away\n",
    "            print(\"MySQL server has gone away. Reconnecting...\")\n",
    "        elif err.errno == 2055:  # Cursor is not connected\n",
    "            print(\"Cursor is not connected. Reconnecting...\")\n",
    "        time.sleep(RETRY_DELAY)\n",
    "        if 'conn' in locals() and conn.is_connected():\n",
    "            conn.rollback()  # Rollback the transaction\n",
    "            cursor.close()\n",
    "            conn.close()\n",
    "    finally:\n",
    "        # Ensure resources are cleaned up\n",
    "        if 'conn' in locals() and conn.is_connected():\n",
    "            cursor.close()\n",
    "            conn.close()\n"
   ]
  },
  {
   "cell_type": "code",
   "execution_count": 26,
   "id": "fb2304b7-7d5e-47d6-af63-9b10bb332663",
   "metadata": {},
   "outputs": [
    {
     "name": "stdout",
     "output_type": "stream",
     "text": [
      "(1, 1731, 8609, 25, Decimal('64216.00'), datetime.datetime(2021, 7, 26, 20, 16, 14), 'www.bestbuy.com')\n",
      "(2, 5539, 2409, 34, Decimal('69877.00'), datetime.datetime(2021, 8, 25, 3, 41, 32), 'www.flipkart.com')\n",
      "(3, 3507, 1145, 28, Decimal('35491.00'), datetime.datetime(2024, 6, 21, 21, 39, 21), 'www.target.com')\n",
      "(4, 4826, 8375, 33, Decimal('39540.00'), datetime.datetime(2022, 9, 17, 13, 52, 11), 'www.amazon.in')\n",
      "(5, 6538, 2149, 27, Decimal('80635.00'), datetime.datetime(2022, 3, 9, 7, 58, 8), 'www.etsy.com')\n"
     ]
    }
   ],
   "source": [
    "#TO SEE THE OUTPUT\n",
    "\n",
    "import mysql.connector\n",
    "\n",
    "try:\n",
    "    conn = mysql.connector.connect(\n",
    "        host='localhost',\n",
    "        user='root',  \n",
    "        password='Nags@2733',  \n",
    "        database='revstorep0_final'  \n",
    "    )\n",
    "\n",
    "    cursor = conn.cursor()\n",
    "    cursor.execute(\"select * from orders limit 5\")\n",
    "    rows = cursor.fetchall()\n",
    "    for i in rows:\n",
    "        print(i)\n",
    "\n",
    "except mysql.connector.Error as err:\n",
    "    print(f\"Error: {err}\")\n",
    "\n",
    "finally:\n",
    "    if conn.is_connected():\n",
    "        cursor.close()\n",
    "        conn.close()\n",
    "    \n"
   ]
  },
  {
   "cell_type": "code",
   "execution_count": null,
   "id": "9d29aeba-8eeb-4d3e-97fb-8b1e2617f2a7",
   "metadata": {},
   "outputs": [],
   "source": [
    "# TESTING"
   ]
  },
  {
   "cell_type": "code",
   "execution_count": 7,
   "id": "13b91c35-0655-44fc-9d6a-78313cbee2d6",
   "metadata": {},
   "outputs": [],
   "source": [
    "import mysql.connector\n",
    "import pandas as pd\n",
    "\n",
    "# Define connection parameters\n",
    "conn_params = {\n",
    "    'host': 'localhost',\n",
    "    'user': 'root',  # Replace with your MySQL username\n",
    "    'password': 'Nags@2733',  # Replace with your MySQL password\n",
    "    'database': 'revstorep0_final'  # Replace with your MySQL database name\n",
    "}\n",
    "\n",
    "def execute_query(query):\n",
    "    try:\n",
    "        # Connect to MySQL\n",
    "        conn = mysql.connector.connect(**conn_params)\n",
    "        cursor = conn.cursor(dictionary=True)  # Use dictionary cursor for easy access\n",
    "        cursor.execute(query)\n",
    "        records = cursor.fetchall()\n",
    "        df = pd.DataFrame(records)\n",
    "        return df\n",
    "    except mysql.connector.Error as err:\n",
    "        print(f\"Error: {err}\")\n",
    "        return None\n",
    "    finally:\n",
    "        # Ensure resources are cleaned up\n",
    "        cursor.close()\n",
    "        conn.close()\n"
   ]
  },
  {
   "cell_type": "code",
   "execution_count": 13,
   "id": "b14ff2b9-1bdb-4625-918f-b01976c9ac41",
   "metadata": {},
   "outputs": [
    {
     "name": "stdout",
     "output_type": "stream",
     "text": [
      "Customers table record count: 1000\n",
      "Products table record count: 6281\n",
      "Orders table record count: 10000\n",
      "Payments table record count: 10000\n"
     ]
    }
   ],
   "source": [
    "#Testing Record Count**\n",
    "\n",
    "query = \"SELECT COUNT(*) AS count FROM Customers\"    #Testing Record Count for customers table\n",
    "df = execute_query(query)\n",
    "if df is not None:\n",
    "    actual_count = df.iloc[0]['count']\n",
    "    print(f\"Customers table record count: {actual_count}\")\n",
    "\n",
    "query = \"SELECT COUNT(*) AS count FROM Products\"    #Testing Record Count for products table\n",
    "df = execute_query(query)\n",
    "if df is not None:\n",
    "    actual_count = df.iloc[0]['count']\n",
    "    print(f\"Products table record count: {actual_count}\")\n",
    "\n",
    "query = \"SELECT COUNT(*) AS count FROM Orders\"    #Testing Record Count for orders table\n",
    "df = execute_query(query)\n",
    "if df is not None:\n",
    "    actual_count = df.iloc[0]['count']\n",
    "    print(f\"Orders table record count: {actual_count}\")\n",
    "\n",
    "query = \"SELECT COUNT(*) AS count FROM Payments\"    #Testing Record Count for payments table\n",
    "df = execute_query(query)\n",
    "if df is not None:\n",
    "    actual_count = df.iloc[0]['count']\n",
    "    print(f\"Payments table record count: {actual_count}\")\n",
    "\n"
   ]
  },
  {
   "cell_type": "code",
   "execution_count": null,
   "id": "8fcca372-0262-4250-9e6f-ef481a0253b2",
   "metadata": {},
   "outputs": [],
   "source": [
    "#Testing Specific Customer Data\n"
   ]
  },
  {
   "cell_type": "code",
   "execution_count": 15,
   "id": "727fd29b-f680-4b33-8e0c-a151d9f57ad2",
   "metadata": {},
   "outputs": [
    {
     "name": "stdout",
     "output_type": "stream",
     "text": [
      "No record found.\n"
     ]
    }
   ],
   "source": [
    "query = \"SELECT * FROM Customers WHERE customer_id = 7\"\n",
    "df = execute_query(query)\n",
    "if df is not None:\n",
    "    if not df.empty:\n",
    "        print(\"Specific customer data found:\")\n",
    "        print(df)\n",
    "    else:\n",
    "        print(\"No record found.\")"
   ]
  },
  {
   "cell_type": "code",
   "execution_count": 17,
   "id": "61fe7403-7f47-4935-b923-2262c9f46d84",
   "metadata": {},
   "outputs": [],
   "source": [
    "#Testing Specific Product Data\n"
   ]
  },
  {
   "cell_type": "code",
   "execution_count": 19,
   "id": "4d4ff22e-b2aa-40da-b4ad-69519f96310f",
   "metadata": {},
   "outputs": [
    {
     "name": "stdout",
     "output_type": "stream",
     "text": [
      "No record found.\n"
     ]
    }
   ],
   "source": [
    "query = \"SELECT * FROM Products WHERE product_id = 107\"\n",
    "df = execute_query(query)\n",
    "if df is not None:\n",
    "    if not df.empty:\n",
    "        print(\"Specific product data found:\")\n",
    "        print(df)\n",
    "    else:\n",
    "        print(\"No record found.\")\n"
   ]
  },
  {
   "cell_type": "code",
   "execution_count": 20,
   "id": "cc215d2d-8d98-4be8-9bbe-403dea415fd7",
   "metadata": {},
   "outputs": [],
   "source": [
    "#Testing Orders with Missing Customers\n"
   ]
  },
  {
   "cell_type": "code",
   "execution_count": 21,
   "id": "6e1da89b-5c20-48b8-985d-8b2294869ffa",
   "metadata": {},
   "outputs": [
    {
     "name": "stdout",
     "output_type": "stream",
     "text": [
      "Foreign key constraints are correct.\n"
     ]
    }
   ],
   "source": [
    "query = \"\"\"\n",
    "SELECT * FROM Orders o\n",
    "LEFT JOIN Customers c ON o.customer_id = c.customer_id\n",
    "WHERE c.customer_id IS NULL\n",
    "\"\"\"\n",
    "df = execute_query(query)\n",
    "if df is not None:\n",
    "    if df.empty:\n",
    "        print(\"Foreign key constraints are correct.\")\n",
    "    else:\n",
    "        print(\"Foreign key constraints issue found:\")\n",
    "        print(df)\n"
   ]
  },
  {
   "cell_type": "code",
   "execution_count": 22,
   "id": "16f1dfb8-562a-424d-86d4-aa09fcaca0f3",
   "metadata": {},
   "outputs": [],
   "source": [
    "#Testing Duplicate Products\n"
   ]
  },
  {
   "cell_type": "code",
   "execution_count": 23,
   "id": "cd7696d2-fea6-4a96-abfa-4acd4e920b6f",
   "metadata": {},
   "outputs": [
    {
     "name": "stdout",
     "output_type": "stream",
     "text": [
      "No duplicate records found in Products table.\n"
     ]
    }
   ],
   "source": [
    "query = \"\"\"\n",
    "SELECT product_id, COUNT(*) as count\n",
    "FROM Products\n",
    "GROUP BY product_id\n",
    "HAVING count > 1\n",
    "\"\"\"\n",
    "df = execute_query(query)\n",
    "if df is not None:\n",
    "    if df.empty:\n",
    "        print(\"No duplicate records found in Products table.\")\n",
    "    else:\n",
    "        print(\"Duplicate records found in Products table:\")\n",
    "        print(df)\n"
   ]
  },
  {
   "cell_type": "code",
   "execution_count": null,
   "id": "980b6d9e-e0b3-427d-abaa-fb3929b96a52",
   "metadata": {},
   "outputs": [],
   "source": [
    "#Testing Duplicate Orders\n"
   ]
  },
  {
   "cell_type": "code",
   "execution_count": 25,
   "id": "e1a4f9a8-ee9c-4117-b39e-47daf7308025",
   "metadata": {},
   "outputs": [
    {
     "name": "stdout",
     "output_type": "stream",
     "text": [
      "No duplicate records found in Orders table.\n"
     ]
    }
   ],
   "source": [
    "query = \"\"\"\n",
    "SELECT order_id, COUNT(*) as count\n",
    "FROM Orders\n",
    "GROUP BY order_id\n",
    "HAVING count > 1\n",
    "\"\"\"\n",
    "df = execute_query(query)\n",
    "if df is not None:\n",
    "    if df.empty:\n",
    "        print(\"No duplicate records found in Orders table.\")\n",
    "    else:\n",
    "        print(\"Duplicate records found in Orders table:\")\n",
    "        print(df)\n",
    "\n"
   ]
  },
  {
   "cell_type": "code",
   "execution_count": null,
   "id": "72781570-c6f6-400a-a7b8-f9fa87fa62cc",
   "metadata": {},
   "outputs": [],
   "source": []
  }
 ],
 "metadata": {
  "kernelspec": {
   "display_name": "Python 3 (ipykernel)",
   "language": "python",
   "name": "python3"
  },
  "language_info": {
   "codemirror_mode": {
    "name": "ipython",
    "version": 3
   },
   "file_extension": ".py",
   "mimetype": "text/x-python",
   "name": "python",
   "nbconvert_exporter": "python",
   "pygments_lexer": "ipython3",
   "version": "3.10.1"
  }
 },
 "nbformat": 4,
 "nbformat_minor": 5
}
